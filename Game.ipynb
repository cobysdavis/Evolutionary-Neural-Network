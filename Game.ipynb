{
 "cells": [
  {
   "cell_type": "code",
   "execution_count": 1,
   "metadata": {},
   "outputs": [
    {
     "name": "stdout",
     "output_type": "stream",
     "text": [
      "[0, 1, 1]\n",
      "[1, 0, 1]\n",
      "[1, 0, 1]\n",
      "[0, 1, 1]\n",
      "[1, 1, 0]\n",
      "[1, 0, 1]\n",
      "[1, 1, 0]\n",
      "[1, 1, 0]\n",
      "[1, 1, 0]\n",
      "[0, 1, 1]\n",
      "[0, 1, 1]\n",
      "[1, 0, 1]\n",
      "[1, 0, 1]\n",
      "[0, 1, 1]\n",
      "[1, 1, 0]\n",
      "[1, 0, 1]\n",
      "[1, 1, 0]\n",
      "[1, 1, 0]\n",
      "[1, 1, 0]\n",
      "[0, 1, 1]\n"
     ]
    }
   ],
   "source": [
    "from random import random,randint\n",
    "from time import sleep\n",
    "import math\n",
    "import numpy as np\n",
    "import random\n",
    "\n",
    "xDim=3\n",
    "yDim=10\n",
    "pipes=[]\n",
    "random.seed(9001)\n",
    "def genRow(x):\n",
    "    empty=randint(0,x-1)\n",
    "    row=[1]*x\n",
    "    row[empty]=0\n",
    "    print(row)\n",
    "    return row\n",
    "\n",
    "def genBoard(x,y): \n",
    "    board=[]\n",
    "    for i in range(y):\n",
    "        board.append(genRow(x))\n",
    "    return board\n",
    "\n",
    "def printBoard(board):\n",
    "    for row in board:\n",
    "        print(row)\n",
    "board=genBoard(xDim,yDim)\n",
    "printBoard(board)"
   ]
  },
  {
   "cell_type": "code",
   "execution_count": 2,
   "metadata": {},
   "outputs": [],
   "source": [
    "base = [-.5524816518, -0.251785039, -1.2697808633, -0.72796955875826, -0.81684247849, 3.97877468847]\n",
    "class NeuralNet():\n",
    "    def __init__(self, w1=None, w2=None):\n",
    "        self.insize = 2\n",
    "        self.hidsize = 2\n",
    "        self.outsize = 1\n",
    "        self.w1 = w1\n",
    "        self.w2 = w2\n",
    "        if not w1:\n",
    "            self.random()\n",
    "\n",
    "    def forward(self, X):\n",
    "        hout = self.sigmoid(np.dot(X, self.w1))\n",
    "        fout = self.sigmoid(np.dot(hout, self.w2))\n",
    "        return fout\n",
    "\n",
    "    # generate random weights around base value\n",
    "    def random(self):\n",
    "        gene = []\n",
    "        for weight in base:\n",
    "            gene.append(weight + random.triangular(weight - .3, weight + .3))\n",
    "        self.decode(gene)\n",
    "\n",
    "    # create gene from weights\n",
    "    def encode(self):\n",
    "        gene = []\n",
    "        for i in self.w1:\n",
    "            gene.extend(i)\n",
    "        for i in self.w2:\n",
    "            gene.extend(i)\n",
    "        return gene\n",
    "\n",
    "    # set weights given gene\n",
    "    def decode(self, gene):\n",
    "        w1 = []\n",
    "        count = 0\n",
    "        for i in range(self.insize):\n",
    "            n = [] \n",
    "            for j in range(self.hidsize):\n",
    "                n.append(gene[count])\n",
    "                count += 1\n",
    "            w1.append(n)\n",
    "        self.w1 = w1\n",
    "\n",
    "        w2 = []\n",
    "        for i in range(self.hidsize):\n",
    "            n = [] \n",
    "            for j in range(self.outsize):\n",
    "                n.append(gene[count])\n",
    "                count += 1\n",
    "            w2.append(n)\n",
    "\n",
    "        self.w2 = w2\n",
    "\n",
    "    def sigmoid(self, n):\n",
    "        return 1/(1 + np.exp(-n))\n",
    "\n",
    "    def __repr__(self):\n",
    "        return str(self.encode())\n",
    "\n",
    "    def __str__(self):\n",
    "        return str(self.encode())"
   ]
  },
  {
   "cell_type": "code",
   "execution_count": 13,
   "metadata": {},
   "outputs": [
    {
     "name": "stdout",
     "output_type": "stream",
     "text": [
      "[[0, 1, 1], [1, 0, 1], [1, 0, 1], [0, 1, 1], [1, 1, 0], [5, 5, 5]]\n",
      "6\n",
      "[5, 5, 5]\n",
      "[[0, 1, 1], [1, 0, 1], [1, 0, 1], [0, 1, 1], [1, 1, 0]]\n",
      "5\n",
      "[[5, 5, 5], [0, 1, 1], [1, 0, 1], [1, 0, 1], [0, 1, 1], [1, 1, 0]]\n",
      "6\n"
     ]
    }
   ],
   "source": [
    "print(board)\n",
    "print(len(board))\n",
    "print(board.pop())\n",
    "print(board)\n",
    "print(len(board))\n",
    "board.insert(0, [5,5,5])\n",
    "print(board)\n",
    "print(len(board))"
   ]
  },
  {
   "cell_type": "code",
   "execution_count": 3,
   "metadata": {},
   "outputs": [
    {
     "name": "stdout",
     "output_type": "stream",
     "text": [
      "[2, 12, 7, 6, 10, 1, 34]\n"
     ]
    }
   ],
   "source": [
    "import random\n",
    "res = random.sample(range(1, 50), 7) \n",
    "print(res)"
   ]
  },
  {
   "cell_type": "code",
   "execution_count": 11,
   "metadata": {},
   "outputs": [
    {
     "name": "stdout",
     "output_type": "stream",
     "text": [
      "1.3685298192292719\n",
      "[ 1.36852982 -1.70261027  0.17324773  0.3555699  -0.89547407 -0.10154077\n",
      " -0.76266146 -0.35626677  1.11624051 -2.28504208]\n",
      "0\n",
      "(array([0]),)\n"
     ]
    }
   ],
   "source": [
    "import numpy as np\n",
    "import random\n",
    "v = np.random.randn(10)\n",
    "maximum = np.max(v)\n",
    "print(maximum)\n",
    "print(v)\n",
    "g=[0,1,1,1,1]\n",
    "maximum = np.min(g)\n",
    "print(maximum)\n",
    "\n",
    "loc=np.where(g==maximum)\n",
    "print(loc)"
   ]
  },
  {
   "cell_type": "code",
   "execution_count": null,
   "metadata": {},
   "outputs": [],
   "source": []
  },
  {
   "cell_type": "code",
   "execution_count": null,
   "metadata": {},
   "outputs": [],
   "source": []
  }
 ],
 "metadata": {
  "kernelspec": {
   "display_name": "ipy-jupyter-venv3",
   "language": "python",
   "name": "myipy_jupter_env3"
  },
  "language_info": {
   "codemirror_mode": {
    "name": "ipython",
    "version": 3
   },
   "file_extension": ".py",
   "mimetype": "text/x-python",
   "name": "python",
   "nbconvert_exporter": "python",
   "pygments_lexer": "ipython3",
   "version": "3.7.5"
  }
 },
 "nbformat": 4,
 "nbformat_minor": 2
}
